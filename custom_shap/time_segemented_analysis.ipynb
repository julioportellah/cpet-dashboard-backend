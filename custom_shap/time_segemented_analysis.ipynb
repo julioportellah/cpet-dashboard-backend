{
 "cells": [
  {
   "cell_type": "code",
   "execution_count": 1,
   "source": [
    "import pandas as pd\r\n",
    "import numpy as np\r\n",
    "from sklearn.model_selection import train_test_split\r\n",
    "from sklearn.linear_model import LogisticRegression\r\n",
    "from sklearn.ensemble import RandomForestClassifier\r\n",
    "from sklearn.metrics import roc_auc_score\r\n",
    "from sklearn.metrics import roc_curve\r\n",
    "from sklearn.metrics import confusion_matrix\r\n",
    "from sklearn.preprocessing import Normalizer\r\n",
    "from sklearn.preprocessing import StandardScaler\r\n",
    "from sklearn.preprocessing import MinMaxScaler\r\n",
    "from sklearn.preprocessing import PolynomialFeatures\r\n",
    "from sklearn.linear_model import LinearRegression\r\n",
    "from sklearn.linear_model import LogisticRegression\r\n",
    "from sklearn.model_selection import train_test_split\r\n",
    "#from imblearn.over_sampling import SMOTE\r\n",
    "from imblearn.over_sampling import SMOTE\r\n",
    "from sklearn import metrics\r\n",
    "import matplotlib.pyplot as plt\r\n",
    "from sklearn.preprocessing import MaxAbsScaler\r\n",
    "from sklearn.linear_model import SGDClassifier\r\n",
    "import shap\r\n",
    "from sklearn.metrics import accuracy_score\r\n",
    "import pickle\r\n",
    "import json"
   ],
   "outputs": [],
   "metadata": {}
  },
  {
   "cell_type": "markdown",
   "source": [
    "## Reading the data"
   ],
   "metadata": {}
  },
  {
   "cell_type": "code",
   "execution_count": 6,
   "source": [
    "data_df_100 = pd.read_csv('../data/data_100.csv')\r\n",
    "data_df_90 = pd.read_csv('../data/data_90.csv')\r\n",
    "data_df_80 = pd.read_csv('../data/data_80.csv')\r\n",
    "data_df_70 = pd.read_csv('../data/data_70.csv')\r\n",
    "data_df_60 = pd.read_csv('../data/data_60.csv')\r\n",
    "data_df_50 = pd.read_csv('../data/data_50.csv')\r\n",
    "data_df_40 = pd.read_csv('../data/data_40.csv')"
   ],
   "outputs": [],
   "metadata": {}
  },
  {
   "cell_type": "markdown",
   "source": [
    "## The functions"
   ],
   "metadata": {}
  },
  {
   "cell_type": "code",
   "execution_count": 11,
   "source": [
    "def evaluate_model(classifier, X, y, scaler, train_size=0.8, total_samples=100, smote=False, best_model=False, best_criteria='positives'):\r\n",
    "    \"\"\"\r\n",
    "    if smote is True:\r\n",
    "        oversample = SMOTE()\r\n",
    "        X, y = oversample.fit_resample(X, y)\r\n",
    "    \"\"\"\r\n",
    "    oversample = SMOTE()\r\n",
    "    scaler.fit(X)\r\n",
    "    X_scaled = scaler.transform(X)\r\n",
    "    auc_vals = np.array([])\r\n",
    "    acc_vals = np.array([])\r\n",
    "    specificity_vals = np.array([])\r\n",
    "    sensitivity_vals = np.array([])\r\n",
    "    ppv_vals = np.array([])\r\n",
    "    model_list = []\r\n",
    "    proba_vals = []\r\n",
    "    test_vals = []\r\n",
    "    fpr_vals = []\r\n",
    "    tpr_vals = []\r\n",
    "    for i in range(1,total_samples):\r\n",
    "        X_train, X_test, y_train, y_test = train_test_split(X_scaled, y, train_size=train_size)\r\n",
    "        if smote is True:\r\n",
    "            X_train, y_train = oversample.fit_resample(X_train, y_train)\r\n",
    "        clf = classifier\r\n",
    "        model = clf.fit(X_train,y_train)\r\n",
    "        model_list.append(model)\r\n",
    "        y_hat = model.predict_proba(X_test)\r\n",
    "        proba_vals.append(y_hat[:,1])\r\n",
    "        test_vals.append(y_test)\r\n",
    "        if np.sum(np.round(y_hat[:,1])) == 0:\r\n",
    "            continue\r\n",
    "        fpr, tpr, thresholds = metrics.roc_curve(y_test, y_hat[:,1])\r\n",
    "        tn, fp, fn, tp = confusion_matrix(y_test,np.round(y_hat[:,1])).ravel()\r\n",
    "        specificity = tn / (tn+fp)\r\n",
    "        sensitivity = tp / (tp+fn)\r\n",
    "        ppv = tp/(tp+fp)\r\n",
    "        auc_vals = np.append(metrics.auc(fpr, tpr),auc_vals)\r\n",
    "        acc_vals = np.append(accuracy_score(y_test, np.round(y_hat[:,1])),acc_vals)\r\n",
    "        specificity_vals = np.append(specificity,specificity_vals)\r\n",
    "        sensitivity_vals = np.append(sensitivity,sensitivity_vals)\r\n",
    "        ppv_vals = np.append(ppv,ppv_vals)\r\n",
    "        fpr_vals.append(fpr)\r\n",
    "        tpr_vals.append(tpr)\r\n",
    "        pass\r\n",
    "    print('AUC: {:.3f} +- {:.3f}'.format(np.mean(auc_vals), np.std(auc_vals)))\r\n",
    "    print('Sensitivity: {:.3f} +- {:.3f}'.format(np.mean(sensitivity_vals), np.std(sensitivity_vals)))\r\n",
    "    print('Specificity: {:.3f} +- {:.3f}'.format(np.mean(specificity_vals), np.std(specificity_vals)))\r\n",
    "    print('Positive Predictive Values: {:.3f} +- {:.3f}'.format(np.mean(ppv_vals), np.std(ppv_vals)))\r\n",
    "    print('Accuracy: {:.3f} +- {:.3f}'.format(np.mean(acc_vals), np.std(acc_vals)))\r\n",
    "    if best_model is True:\r\n",
    "        max_ppv_index = 0\r\n",
    "        if best_criteria == 'positives':\r\n",
    "            best_vals = ppv_vals*2.5 + sensitivity_vals*2\r\n",
    "            max_ppv_index = np.argmax(best_vals)\r\n",
    "        elif best_criteria == 'auc':\r\n",
    "            max_ppv_index = np.argmax(auc_vals)\r\n",
    "        elif best_criteria == 'accuracy_ppv':\r\n",
    "            best_vals = ppv_vals*2.5 + auc_vals*2\r\n",
    "            max_ppv_index = np.argmax(best_vals)\r\n",
    "        else:\r\n",
    "            max_ppv_index = np.argmax(acc_vals)\r\n",
    "        print(max_ppv_index)\r\n",
    "        print('The highest ppv model has the following:')\r\n",
    "        print('AUC: {:.3f}'.format(auc_vals[max_ppv_index]))\r\n",
    "        print('Sensitivity: {:.3f}'.format(sensitivity_vals[max_ppv_index]))\r\n",
    "        print('Specificity: {:.3f}'.format(specificity_vals[max_ppv_index]))\r\n",
    "        print('Positive Predictive Values: {:.3f}'.format(ppv_vals[max_ppv_index]))\r\n",
    "        print('Accuracy: {:.3f}'.format(acc_vals[max_ppv_index]))\r\n",
    "        \r\n",
    "        return model_list[max_ppv_index],proba_vals,test_vals,fpr_vals[max_ppv_index],tpr_vals[max_ppv_index], scaler\r\n",
    "    pass"
   ],
   "outputs": [],
   "metadata": {}
  },
  {
   "cell_type": "code",
   "execution_count": 12,
   "source": [
    "def interpret_model(model, data_df, features,label):\r\n",
    "    modelLimitation = model.fit(data_df[features],data_df[label])\r\n",
    "    explainer = shap.TreeExplainer(modelLimitation, data=data_df[features])\r\n",
    "    shap_values = explainer.shap_values(data_df[features])\r\n",
    "    shap.summary_plot(shap_values[1], data_df[features], plot_type='dot', max_display=data_df.shape[1])\r\n",
    "    pass"
   ],
   "outputs": [],
   "metadata": {}
  },
  {
   "cell_type": "code",
   "execution_count": 13,
   "source": [
    "def get_waterfall_plot(model, data_df, features,label):\r\n",
    "    modelLimitation = model.fit(data_df[features],data_df[label])\r\n",
    "    explainer = shap.TreeExplainer(modelLimitation, data=data_df[features])\r\n",
    "    shap_values = explainer.waterfall_plot(data_df[features])\r\n",
    "    shap.summary_plot(shap_values[1], data_df[features], plot_type='dot', max_display=data_df.shape[1])\r\n",
    "    pass"
   ],
   "outputs": [],
   "metadata": {}
  },
  {
   "cell_type": "code",
   "execution_count": 14,
   "source": [
    "def explain_model(model, df_data, features, ravel=False):\r\n",
    "    explainer = shap.TreeExplainer(model)\r\n",
    "    shap_values = explainer.shap_values(df_data[features])\r\n",
    "    if ravel is True:\r\n",
    "        for feature in features:\r\n",
    "            shap.dependence_plot(feature, shap_values[1], df_data[features], show=False, interaction_index=None)\r\n",
    "    else:\r\n",
    "        fig, axes = plt.subplots(nrows=int(np.ceil(len(features)/4)), ncols=4, figsize=(20, 14))\r\n",
    "        axes = axes.ravel()\r\n",
    "        for i, col in enumerate(features):\r\n",
    "            shap.dependence_plot(col, shap_values[1], df_data[features], ax=axes[i], show=False, interaction_index=None)"
   ],
   "outputs": [],
   "metadata": {}
  },
  {
   "cell_type": "code",
   "execution_count": 15,
   "source": [
    "def save_model(model, scaler, name):\r\n",
    "    filename = name + '.sav'\r\n",
    "    pickle.dump(model, open(filename,'wb'))\r\n",
    "    filename = 'scaler_' + name + '.sav'\r\n",
    "    pickle.dump(scaler, open(filename,'wb'))"
   ],
   "outputs": [],
   "metadata": {}
  },
  {
   "cell_type": "markdown",
   "source": [
    "## Working with the cardiac data"
   ],
   "metadata": {}
  },
  {
   "cell_type": "code",
   "execution_count": 17,
   "source": [
    "cardiac_data_100 = ['CardiacLim','DiffPercentPeakVO2', 'DiffPeakVO2','75_to_100_VO2Slope','75_to_100_HRSlope','MinO2Pulse',\r\n",
    "                      'PeakVE','VO2vsPeakVO2atVT','second_half_RRSlope','second_half_VO2Slope','75_to_100_VCO2Slope','MeanVE',\r\n",
    "                      'second_half_VESlope','O2PulseDiff','50_to_75_O2Slope',\r\n",
    "                        'O2PulsePercent','75_to_100_RERSlope','PeakRER','50_to_75_VO2Slope','PeakVO2Real']\r\n",
    "cardiac_data_90 = ['CardiacLim','DiffPercentPeakVO2','DiffPeakVO2','MinO2Pulse','second_half_VEVO2Slope',\r\n",
    "                '25_to_50_VCO2Slope','VO2vsPeakVO2atVT','PeakVE','15_to_85_VO2Slope','first_half_VEVCO2Slope',\r\n",
    "                '25_to_50_VO2Slope','MeanVO2','25_to_50_VESlope','PeakVO2Real','PeakVO2', '15_to_85_VESlope',\r\n",
    "                   'second_half_RRSlope','PeakRER','second_half_VCO2Slope','O2PulsePercent','15_to_85_VCO2Slope',\r\n",
    "                   '75_to_100_VESlope','MeanVE','first_half_VO2Slope','second_half_VESlope','first_half_VEVO2Slope',\r\n",
    "                   '75_to_100_HRSlope','DiffPercentPeakHR','15_to_85_HRSlope']\r\n",
    "cardiac_data_80 = ['CardiacLim','DiffPercentPeakVO2','DiffPeakVO2','first_half_VEVCO2Slope','MinO2Pulse','15_to_85_VO2Slope',\r\n",
    "                   '25_to_50_VEVCO2Slope','MeanVO2','PeakVO2Real','PeakVO2','MeanHeartRate','first_half_VO2Slope',\r\n",
    "                  'first_half_VEVO2Slope','O2PulsePercent','StdHeartRate','second_half_VEVO2Slope','75_to_100_RRSlope',\r\n",
    "                  'DiffPeakHR','PredictedMaxHR']\r\n",
    "cardiac_data_70 = ['CardiacLim','DiffPercentPeakVO2','15_to_85_VO2Slope','PeakVO2Real','DiffPeakVO2','MinO2Pulse','PeakVO2',\r\n",
    "                   'first_half_VEVCO2Slope','MeanVO2','15_to_85_VCO2Slope','PeakVCO2','StdO2Pulse','PredictedMaxHR',\r\n",
    "                   '15_to_85_VESlope','MeanVCO2']\r\n",
    "cardiac_data_60 = ['CardiacLim','50_to_75_VO2Slope','50_to_75_VCO2Slope','DiffPercentPeakVO2','15_to_85_VO2Slope','StdO2Pulse',\r\n",
    "                  '50_to_75_VESlope','first_half_VEVCO2Slope','PeakVO2','MinO2Pulse','PeakVO2Real','O2PulsePercent',\r\n",
    "                  'MeanVO2','StdHeartRate','LowestVE/VCO2','VEvsVCO2Slope','50_to_75_HRSlope',\r\n",
    "                  '15_to_85_VEVO2Slope']\r\n",
    "cardiac_data_50 = ['CardiacLim','StdO2Pulse','15_to_85_VEVCO2Slope','DiffPercentPeakVO2','second_half_VCO2Slope',\r\n",
    "                'MeanVE/VCO2','second_half_VO2Slope','second_half_VESlope','PeakVO2Real','MinO2Pulse','PeakVO2','O2PulseDiff',\r\n",
    "                'StdHeartRate','15_to_85_VEVO2Slope','VEvsVCO2Slope','second_half_HRSlope']\r\n",
    "cardiac_data_40 = ['CardiacLim','StdO2Pulse','DiffPercentPeakVO2','second_half_VEVCO2Slope','MinO2Pulse','O2PulseDiff',\r\n",
    "                   'PeakVO2','PeakVO2Real','O2PulsePercent','VEvsVCO2Slope','MaxO2Pulse','LowestVE/VCO2','MeanVE/VCO2',\r\n",
    "                  'second_half_VEVO2Slope','second_half_HRSlope','second_half_VCO2Slope','PeakVCO2','StdVE/VCO2']"
   ],
   "outputs": [],
   "metadata": {}
  },
  {
   "cell_type": "code",
   "execution_count": 75,
   "source": [
    "X, y = data_df_100[cardiac_data_100[1:]].values, data_df_100['CardiacLim'].values\r\n",
    "scaler_test = StandardScaler(with_mean=False, with_std=False)\r\n",
    "clf_selected = RandomForestClassifier(bootstrap=True, criterion=\"entropy\",max_features='sqrt',min_samples_leaf=0.01,\r\n",
    "                            min_samples_split=0.01,n_estimators=200, n_jobs=2)\r\n",
    "clf_cardiac, proba_cardiac, y_test_cardiac, fpr_car, tpr_car, scaler_100_cardiac = evaluate_model(clf_selected,X, y, scaler_test, total_samples=150, train_size=0.7, smote=True,best_model=True, best_criteria='accuracy_ppv')"
   ],
   "outputs": [],
   "metadata": {}
  },
  {
   "cell_type": "code",
   "execution_count": 74,
   "source": [
    "X, y = data_df_90[cardiac_data_90[1:]].values, data_df_90['CardiacLim'].values\r\n",
    "scaler_test = StandardScaler(with_mean=False, with_std=False)\r\n",
    "clf_selected = RandomForestClassifier(bootstrap=True, criterion=\"entropy\",max_features='sqrt',min_samples_leaf=0.01,\r\n",
    "                            min_samples_split=0.01,n_estimators=100, n_jobs=2)\r\n",
    "clf_cardiac_90, proba_cardiac, y_test_cardiac, fpr_car, tpr_car,scaler_90_cardiac = evaluate_model(clf_selected,X, y, scaler_test, total_samples=50, train_size=0.7, smote=True,best_model=True)"
   ],
   "outputs": [
    {
     "output_type": "stream",
     "name": "stdout",
     "text": [
      "AUC: 0.872 +- 0.039\n",
      "Sensitivity: 0.644 +- 0.126\n",
      "Specificity: 0.884 +- 0.051\n",
      "Positive Predictive Values: 0.652 +- 0.135\n",
      "Accuracy: 0.823 +- 0.038\n",
      "45\n",
      "The highest ppv model has the following:\n",
      "AUC: 0.916\n",
      "Sensitivity: 0.684\n",
      "Specificity: 0.979\n",
      "Positive Predictive Values: 0.929\n",
      "Accuracy: 0.894\n"
     ]
    }
   ],
   "metadata": {}
  },
  {
   "cell_type": "code",
   "execution_count": 73,
   "source": [
    "X, y = data_df_80[cardiac_data_80[1:]].values, data_df_80['CardiacLim'].values\r\n",
    "scaler_test = StandardScaler(with_mean=False, with_std=False)\r\n",
    "clf_selected = RandomForestClassifier(bootstrap=True, criterion=\"entropy\",max_features='sqrt',min_samples_leaf=0.01,\r\n",
    "                            min_samples_split=0.01,n_estimators=100, n_jobs=2)\r\n",
    "clf_cardiac_80, proba_cardiac, y_test_cardiac, fpr_car, tpr_car, scaler_80_cardiac = evaluate_model(clf_selected,X, y, scaler_test, total_samples=50, train_size=0.7, smote=True,best_model=True)"
   ],
   "outputs": [
    {
     "output_type": "stream",
     "name": "stdout",
     "text": [
      "AUC: 0.783 +- 0.049\n",
      "Sensitivity: 0.599 +- 0.132\n",
      "Specificity: 0.784 +- 0.067\n",
      "Positive Predictive Values: 0.468 +- 0.109\n",
      "Accuracy: 0.738 +- 0.057\n",
      "48\n",
      "The highest ppv model has the following:\n",
      "AUC: 0.824\n",
      "Sensitivity: 0.800\n",
      "Specificity: 0.826\n",
      "Positive Predictive Values: 0.667\n",
      "Accuracy: 0.818\n"
     ]
    }
   ],
   "metadata": {}
  },
  {
   "cell_type": "code",
   "execution_count": 23,
   "source": [
    "X, y = data_df_70[cardiac_data_70[1:]].values, data_df_70['CardiacLim'].values\r\n",
    "scaler_test = StandardScaler(with_mean=False, with_std=False)\r\n",
    "clf_selected = RandomForestClassifier(bootstrap=True, criterion=\"entropy\",max_features='sqrt',min_samples_leaf=0.01,\r\n",
    "                            min_samples_split=0.01,n_estimators=100, n_jobs=2)\r\n",
    "clf_cardiac_70, proba_cardiac, y_test_cardiac, fpr_car, tpr_car, scaler_70_cardiac = evaluate_model(clf_selected,X, y, scaler_test, total_samples=50, train_size=0.7, smote=True,best_model=True)"
   ],
   "outputs": [
    {
     "output_type": "stream",
     "name": "stdout",
     "text": [
      "AUC: 0.780 +- 0.048\n",
      "Sensitivity: 0.566 +- 0.135\n",
      "Specificity: 0.789 +- 0.057\n",
      "Positive Predictive Values: 0.472 +- 0.101\n",
      "Accuracy: 0.733 +- 0.048\n",
      "32\n",
      "The highest ppv model has the following:\n",
      "AUC: 0.920\n",
      "Sensitivity: 0.842\n",
      "Specificity: 0.915\n",
      "Positive Predictive Values: 0.800\n",
      "Accuracy: 0.894\n"
     ]
    }
   ],
   "metadata": {}
  },
  {
   "cell_type": "code",
   "execution_count": 27,
   "source": [
    "X, y = data_df_60[cardiac_data_60[1:]].values, data_df_60['CardiacLim'].values\r\n",
    "scaler_test = StandardScaler(with_mean=False, with_std=False)\r\n",
    "clf_selected = RandomForestClassifier(bootstrap=True, criterion=\"entropy\",max_features='sqrt',min_samples_leaf=0.01,\r\n",
    "                            min_samples_split=0.01,n_estimators=200, n_jobs=2)\r\n",
    "clf_cardiac_60, proba_cardiac, y_test_cardiac, fpr_car, tpr_car, scaler_60_cardiac = evaluate_model(clf_selected,X, y, scaler_test, total_samples=50, train_size=0.7, smote=True,best_model=True)"
   ],
   "outputs": [
    {
     "output_type": "stream",
     "name": "stdout",
     "text": [
      "AUC: 0.785 +- 0.046\n",
      "Sensitivity: 0.516 +- 0.133\n",
      "Specificity: 0.821 +- 0.067\n",
      "Positive Predictive Values: 0.480 +- 0.117\n",
      "Accuracy: 0.747 +- 0.051\n",
      "6\n",
      "The highest ppv model has the following:\n",
      "AUC: 0.852\n",
      "Sensitivity: 0.750\n",
      "Specificity: 0.907\n",
      "Positive Predictive Values: 0.643\n",
      "Accuracy: 0.879\n"
     ]
    }
   ],
   "metadata": {}
  },
  {
   "cell_type": "code",
   "execution_count": 31,
   "source": [
    "X, y = data_df_50[cardiac_data_50[1:]].values, data_df_50['CardiacLim'].values\r\n",
    "scaler_test = StandardScaler(with_mean=False, with_std=False)\r\n",
    "#clf_selected = RandomForestClassifier(bootstrap=True, criterion=\"entropy\",max_features=0.1,min_samples_leaf=0.01,\r\n",
    "#                            min_samples_split=0.01,n_estimators=400,oob_score=True)\r\n",
    "clf_selected = RandomForestClassifier(bootstrap=True, criterion=\"entropy\",max_features='sqrt',min_samples_leaf=0.01,\r\n",
    "                            min_samples_split=0.01,n_estimators=200, n_jobs=2)\r\n",
    "clf_cardiac_50, proba_cardiac, y_test_cardiac, fpr_car, tpr_car,scaler_50_cardiac = evaluate_model(clf_selected,X, y, scaler_test, total_samples=50, train_size=0.7, smote=True,best_model=True)"
   ],
   "outputs": [
    {
     "output_type": "stream",
     "name": "stdout",
     "text": [
      "AUC: 0.784 +- 0.061\n",
      "Sensitivity: 0.569 +- 0.145\n",
      "Specificity: 0.800 +- 0.076\n",
      "Positive Predictive Values: 0.490 +- 0.128\n",
      "Accuracy: 0.741 +- 0.057\n",
      "32\n",
      "The highest ppv model has the following:\n",
      "AUC: 0.926\n",
      "Sensitivity: 0.684\n",
      "Specificity: 0.957\n",
      "Positive Predictive Values: 0.867\n",
      "Accuracy: 0.879\n"
     ]
    }
   ],
   "metadata": {}
  },
  {
   "cell_type": "code",
   "execution_count": 30,
   "source": [
    "X, y = data_df_40[cardiac_data_40[1:]].values, data_df_40['CardiacLim'].values\r\n",
    "scaler_test = StandardScaler(with_mean=False, with_std=False)\r\n",
    "#clf_selected = RandomForestClassifier(bootstrap=True, criterion=\"entropy\",max_features=0.1,min_samples_leaf=0.01,\r\n",
    "#                            min_samples_split=0.01,n_estimators=400,oob_score=True)\r\n",
    "clf_selected = RandomForestClassifier(bootstrap=True, criterion=\"entropy\",max_features=None,min_samples_leaf=0.01,\r\n",
    "                            min_samples_split=0.02,n_estimators=50, n_jobs=5, oob_score=True)\r\n",
    "clf_cardiac_40, proba_cardiac, y_test_cardiac, fpr_car, tpr_car, scaler_40_cardiac = evaluate_model(clf_selected,X, y, scaler_test, total_samples=50, train_size=0.7, smote=True,best_model=True)"
   ],
   "outputs": [
    {
     "output_type": "stream",
     "name": "stdout",
     "text": [
      "AUC: 0.749 +- 0.055\n",
      "Sensitivity: 0.528 +- 0.140\n",
      "Specificity: 0.767 +- 0.072\n",
      "Positive Predictive Values: 0.428 +- 0.093\n",
      "Accuracy: 0.706 +- 0.049\n",
      "1\n",
      "The highest ppv model has the following:\n",
      "AUC: 0.828\n",
      "Sensitivity: 0.750\n",
      "Specificity: 0.820\n",
      "Positive Predictive Values: 0.571\n",
      "Accuracy: 0.803\n"
     ]
    }
   ],
   "metadata": {}
  },
  {
   "cell_type": "markdown",
   "source": [
    "## Pulmonary"
   ],
   "metadata": {}
  },
  {
   "cell_type": "code",
   "execution_count": 32,
   "source": [
    "pulmonary_data_100 = ['PulmonaryLim','O2PulsePercent', 'O2PulseDiff','first_half_VO2Slope','LowestVE/VCO2',\r\n",
    "                      'first_half_VCO2Slope', '15_to_85_RRSlope','PeakRR','50_to_75_RRSlope','MeanO2Pulse','VEvsVCO2Slope',\r\n",
    "                     '25_to_50_VCO2Slope','StdHeartRate']\r\n",
    "pulmonary_data_90 = ['PulmonaryLim','O2PulsePercent','O2PulseDiff','second_half_RRSlope','LowestVE/VCO2',\r\n",
    "                    'second_half_VESlope','PeakRR','75_to_100_VESlope','75_to_100_RRSlope','PeakVE','VEvsVCO2Slope',\r\n",
    "                    'MaxO2Pulse','StdHeartRate','MeanVO2','MeanVE']\r\n",
    "pulmonary_data_80 = ['PulmonaryLim','O2PulsePercent','O2PulseDiff','LowestVE/VCO2','first_half_VO2Slope',\r\n",
    "                    'first_half_VCO2Slope','VEvsVCO2Slope','75_to_100_RRSlope','MeanO2Pulse']\r\n",
    "pulmonary_data_70 = ['PulmonaryLim','O2PulsePercent','O2PulseDiff','LowestVE/VCO2','VEvsVCO2Slope','MaxO2Pulse',\r\n",
    "                     'second_half_RRSlope','first_half_VO2Slope','MeanVCO2','MeanVO2']\r\n",
    "pulmonary_data_60 = ['PulmonaryLim','O2PulsePercent','O2PulseDiff','LowestVE/VCO2','MeanVO2','MeanVCO2','second_half_RRSlope',\r\n",
    "                    'MaxO2Pulse','15_to_85_VCO2Slope','second_half_VEVO2Slope','PeakVO2Real']\r\n",
    "pulmonary_data_50 = ['PulmonaryLim','O2PulsePercent','O2PulseDiff','DiffPercentPeakVO2','15_to_85_VO2Slope','75_to_100_RRSlope',\r\n",
    "                     'PeakVE','MeanVO2','MaxO2Pulse','MeanVCO2','PeakVO2','PeakVCO2','MaxO2_EST']\r\n",
    "pulmonary_data_40 = ['PulmonaryLim','O2PulsePercent','O2PulseDiff','DiffPercentPeakVO2','PeakVE','PeakVO2',\r\n",
    "                    'PeakVO2Real','MaxO2Pulse','StdO2Pulse','MeanRR','PeakVCO2','MeanVO2','MeanVE',\r\n",
    "                    'DiffPercentPeakHR','MeanHeartRate','LowestRR','DiffPeakHR','StdHeartRate','LowestVE/VCO2']"
   ],
   "outputs": [],
   "metadata": {}
  },
  {
   "cell_type": "code",
   "execution_count": 33,
   "source": [
    "X_pulm, y_pulm = data_df_100[pulmonary_data_100[1:]].values, data_df_100['PulmonaryLim'].values\r\n",
    "#scaler_pulm = Normalizer(norm='max')\r\n",
    "#clf_pulm = RandomForestClassifier(bootstrap=True, class_weight=\"balanced\", criterion=\"entropy\",max_features='sqrt',min_samples_leaf=0.2163157894736842,\r\n",
    "#                            min_samples_split= 0.5252631578947369,n_estimators=600,oob_score=False)\r\n",
    "scaler_pulm = StandardScaler( with_mean=False, with_std=False)\r\n",
    "clf_pulm = RandomForestClassifier(bootstrap=True,  criterion=\"entropy\",max_features=0.1,min_samples_leaf=0.01,\r\n",
    "                            min_samples_split= 0.01,n_estimators=50,oob_score=False)\r\n",
    "clf_pulmonary_100, proba_pulm, y_test_pulm, fpr_plm, tpr_plm, scaler_100_pulmonary = evaluate_model(clf_pulm,X_pulm, y_pulm, scaler_pulm, total_samples=100, train_size=0.7, smote=True, best_model=True, best_criteria='accuracy')"
   ],
   "outputs": [
    {
     "output_type": "stream",
     "name": "stdout",
     "text": [
      "AUC: 0.851 +- 0.058\n",
      "Sensitivity: 0.602 +- 0.201\n",
      "Specificity: 0.869 +- 0.049\n",
      "Positive Predictive Values: 0.380 +- 0.131\n",
      "Accuracy: 0.836 +- 0.047\n",
      "58\n",
      "The highest ppv model has the following:\n",
      "AUC: 0.982\n",
      "Sensitivity: 1.000\n",
      "Specificity: 0.947\n",
      "Positive Predictive Values: 0.750\n",
      "Accuracy: 0.955\n"
     ]
    }
   ],
   "metadata": {}
  },
  {
   "cell_type": "code",
   "execution_count": 34,
   "source": [
    "X_pulm, y_pulm = data_df_90[pulmonary_data_90[1:]].values, data_df_90['PulmonaryLim'].values\r\n",
    "scaler_pulm = StandardScaler( with_mean=False, with_std=False)\r\n",
    "clf_pulm = RandomForestClassifier(bootstrap=True,  criterion=\"entropy\",max_features=0.1,min_samples_leaf=0.01,\r\n",
    "                            min_samples_split= 0.01,n_estimators=50,oob_score=False)\r\n",
    "clf_pulmonary_90, proba_pulm, y_test_pulm, fpr_plm, tpr_plm, scaler_90_pulmonary = evaluate_model(clf_pulm,X_pulm, y_pulm, scaler_pulm, total_samples=100, train_size=0.7, smote=True, best_model=True, best_criteria='accuracy')"
   ],
   "outputs": [
    {
     "output_type": "stream",
     "name": "stdout",
     "text": [
      "AUC: 0.884 +- 0.055\n",
      "Sensitivity: 0.607 +- 0.212\n",
      "Specificity: 0.907 +- 0.036\n",
      "Positive Predictive Values: 0.458 +- 0.137\n",
      "Accuracy: 0.871 +- 0.036\n",
      "78\n",
      "The highest ppv model has the following:\n",
      "AUC: 0.989\n",
      "Sensitivity: 0.667\n",
      "Specificity: 0.983\n",
      "Positive Predictive Values: 0.800\n",
      "Accuracy: 0.955\n"
     ]
    }
   ],
   "metadata": {}
  },
  {
   "cell_type": "code",
   "execution_count": 35,
   "source": [
    "X_pulm, y_pulm = data_df_80[pulmonary_data_80[1:]].values, data_df_80['PulmonaryLim'].values\r\n",
    "scaler_pulm = StandardScaler( with_mean=False, with_std=False)\r\n",
    "clf_pulm = RandomForestClassifier(bootstrap=True,  criterion=\"entropy\",max_features=0.1,min_samples_leaf=0.01,\r\n",
    "                            min_samples_split= 0.01,n_estimators=50,oob_score=False)\r\n",
    "clf_pulmonary_80, proba_pulm, y_test_pulm, fpr_plm, tpr_plm, scaler_80_pulmonary = evaluate_model(clf_pulm,X_pulm, y_pulm, scaler_pulm, total_samples=100, train_size=0.7, smote=True, best_model=True, best_criteria='accuracy')"
   ],
   "outputs": [
    {
     "output_type": "stream",
     "name": "stdout",
     "text": [
      "AUC: 0.832 +- 0.057\n",
      "Sensitivity: 0.585 +- 0.194\n",
      "Specificity: 0.841 +- 0.051\n",
      "Positive Predictive Values: 0.325 +- 0.129\n",
      "Accuracy: 0.811 +- 0.042\n",
      "21\n",
      "The highest ppv model has the following:\n",
      "AUC: 0.839\n",
      "Sensitivity: 0.600\n",
      "Specificity: 0.918\n",
      "Positive Predictive Values: 0.375\n",
      "Accuracy: 0.894\n"
     ]
    }
   ],
   "metadata": {}
  },
  {
   "cell_type": "code",
   "execution_count": 36,
   "source": [
    "X_pulm, y_pulm = data_df_70[pulmonary_data_70[1:]].values, data_df_70['PulmonaryLim'].values\r\n",
    "scaler_pulm = StandardScaler( with_mean=False, with_std=False)\r\n",
    "clf_pulm = RandomForestClassifier(bootstrap=True,  criterion=\"entropy\",max_features=0.1,min_samples_leaf=0.01,\r\n",
    "                            min_samples_split= 0.01,n_estimators=50,oob_score=False)\r\n",
    "clf_pulmonary_70, proba_pulm, y_test_pulm, fpr_plm, tpr_plm, scaler_70_pulmonary = evaluate_model(clf_pulm,X_pulm, y_pulm, scaler_pulm, total_samples=100, train_size=0.7, smote=True, best_model=True, best_criteria='accuracy')"
   ],
   "outputs": [
    {
     "output_type": "stream",
     "name": "stdout",
     "text": [
      "AUC: 0.783 +- 0.065\n",
      "Sensitivity: 0.512 +- 0.180\n",
      "Specificity: 0.834 +- 0.057\n",
      "Positive Predictive Values: 0.297 +- 0.126\n",
      "Accuracy: 0.795 +- 0.050\n",
      "9\n",
      "The highest ppv model has the following:\n",
      "AUC: 0.867\n",
      "Sensitivity: 0.500\n",
      "Specificity: 0.933\n",
      "Positive Predictive Values: 0.429\n",
      "Accuracy: 0.894\n"
     ]
    }
   ],
   "metadata": {}
  },
  {
   "cell_type": "code",
   "execution_count": 37,
   "source": [
    "X_pulm, y_pulm = data_df_60[pulmonary_data_60[1:]].values, data_df_60['PulmonaryLim'].values\r\n",
    "scaler_pulm = StandardScaler( with_mean=False, with_std=False)\r\n",
    "clf_pulm = RandomForestClassifier(bootstrap=True,  criterion=\"entropy\",max_features=0.1,min_samples_leaf=0.01,\r\n",
    "                            min_samples_split= 0.01,n_estimators=50,oob_score=False)\r\n",
    "clf_pulmonary_60, proba_pulm, y_test_pulm, fpr_plm, tpr_plm,scaler_60_pulmonary  = evaluate_model(clf_pulm,X_pulm, y_pulm, scaler_pulm, total_samples=100, train_size=0.7, smote=True, best_model=True, best_criteria='accuracy')"
   ],
   "outputs": [
    {
     "output_type": "stream",
     "name": "stdout",
     "text": [
      "AUC: 0.790 +- 0.056\n",
      "Sensitivity: 0.511 +- 0.189\n",
      "Specificity: 0.817 +- 0.058\n",
      "Positive Predictive Values: 0.294 +- 0.100\n",
      "Accuracy: 0.775 +- 0.044\n",
      "87\n",
      "The highest ppv model has the following:\n",
      "AUC: 0.889\n",
      "Sensitivity: 0.778\n",
      "Specificity: 0.877\n",
      "Positive Predictive Values: 0.500\n",
      "Accuracy: 0.864\n"
     ]
    }
   ],
   "metadata": {}
  },
  {
   "cell_type": "code",
   "execution_count": 43,
   "source": [
    "X_pulm, y_pulm = data_df_50[pulmonary_data_50[1:]].values, data_df_50['PulmonaryLim'].values\r\n",
    "scaler_pulm = StandardScaler( with_mean=False, with_std=False)\r\n",
    "clf_pulm = RandomForestClassifier(bootstrap=True,  criterion=\"entropy\",max_features=0.1,min_samples_leaf=0.01,\r\n",
    "                            min_samples_split= 0.01,n_estimators=50,oob_score=False)\r\n",
    "clf_pulmonary_50, proba_pulm, y_test_pulm, fpr_plm, tpr_plm, scaler_50_pulmonary = evaluate_model(clf_pulm,X_pulm, y_pulm, scaler_pulm, total_samples=100, train_size=0.7, smote=True, best_model=True)"
   ],
   "outputs": [
    {
     "output_type": "stream",
     "name": "stdout",
     "text": [
      "AUC: 0.807 +- 0.066\n",
      "Sensitivity: 0.548 +- 0.173\n",
      "Specificity: 0.831 +- 0.055\n",
      "Positive Predictive Values: 0.316 +- 0.119\n",
      "Accuracy: 0.795 +- 0.045\n",
      "81\n",
      "The highest ppv model has the following:\n",
      "AUC: 0.884\n",
      "Sensitivity: 0.900\n",
      "Specificity: 0.821\n",
      "Positive Predictive Values: 0.474\n",
      "Accuracy: 0.833\n"
     ]
    }
   ],
   "metadata": {}
  },
  {
   "cell_type": "code",
   "execution_count": 42,
   "source": [
    "X_pulm, y_pulm = data_df_40[pulmonary_data_40[1:]].values, data_df_40['PulmonaryLim'].values\r\n",
    "scaler_pulm = StandardScaler( with_mean=False, with_std=False)\r\n",
    "clf_pulm = RandomForestClassifier(bootstrap=True,  criterion=\"entropy\",max_features=0.1,min_samples_leaf=0.01,\r\n",
    "                            min_samples_split= 0.01,n_estimators=50,oob_score=False)\r\n",
    "clf_pulmonary_40, proba_pulm, y_test_pulm, fpr_plm, tpr_plm, scaler_40_pulmonary = evaluate_model(clf_pulm,X_pulm, y_pulm, scaler_pulm, total_samples=100, train_size=0.7, smote=True, best_model=True)"
   ],
   "outputs": [
    {
     "output_type": "stream",
     "name": "stdout",
     "text": [
      "AUC: 0.830 +- 0.061\n",
      "Sensitivity: 0.559 +- 0.199\n",
      "Specificity: 0.871 +- 0.042\n",
      "Positive Predictive Values: 0.370 +- 0.125\n",
      "Accuracy: 0.831 +- 0.036\n",
      "94\n",
      "The highest ppv model has the following:\n",
      "AUC: 0.969\n",
      "Sensitivity: 1.000\n",
      "Specificity: 0.950\n",
      "Positive Predictive Values: 0.667\n",
      "Accuracy: 0.955\n"
     ]
    }
   ],
   "metadata": {}
  },
  {
   "cell_type": "markdown",
   "source": [
    "## Other model"
   ],
   "metadata": {}
  },
  {
   "cell_type": "code",
   "execution_count": 44,
   "source": [
    "other_data_100 = ['MuscleSkeletalLim','PeakRR', 'PeakVE','PeakVCO2','MeanVCO2','PeakVO2','PeakVO2Real',\r\n",
    "                  'LowestVE/VCO2','MeanRER','PeakRER','VO2vsPeakVO2atVT','DiffPercentPeakVO2','MeanRR',\r\n",
    "                  '75_to_100_VEVCO2Slope','DiffPeakVO2','MeanVE','second_half_VESlope','first_half_VEVCO2Slope',\r\n",
    "                  '0_to_25_O2Slope','VO2atVT', 'MeanVO2','second_half_VCO2Slope','DiffPeakHR','MeanVE/VCO2','75_to_100_RRSlope']\r\n",
    "other_data_90 = ['MuscleSkeletalLim','PeakVE','PeakRR','PeakVCO2','DiffPercentPeakVO2','PeakVO2','PeakVO2Real',\r\n",
    "                'MeanRER','MeanRR','0_to_25_O2Slope','DiffPeakVO2','LowestVE/VCO2','MeanVCO2','MeanO2Pulse',\r\n",
    "                 '75_to_100_HRSlope','MeanVE','0_to_25_VESlope','MeanVO2','VEvsVCO2Slope','0_to_25_VO2Slope',\r\n",
    "                'second_half_VEVCO2Slope']\r\n",
    "other_data_80 = ['MuscleSkeletalLim','PeakVCO2','PeakRR','PeakVE','LowestVE/VCO2','DiffPercentPeakVO2','MeanVCO2',\r\n",
    "                'PeakVO2','PeakVO2Real','O2PulseDiff','DiffPeakVO2','MeanVO2','O2PulsePercent','0_to_25_HRSlope',\r\n",
    "                 'MeanVE','MeanO2Pulse','VEvsVCO2Slope','MeanRER','PeakRER','second_half_VCO2Slope','15_to_85_RRSlope',\r\n",
    "                 '50_to_75_VEVCO2Slope']\r\n",
    "other_data_70 = ['MuscleSkeletalLim','first_half_O2Slope','PeakVCO2','DiffPercentPeakVO2','LowestVE/VCO2','PeakVE',\r\n",
    "                'PeakVO2','PeakVO2Real','PeakRR','O2PulseDiff','O2PulsePercent','MeanVCO2','DiffPeakVO2',\r\n",
    "                '0_to_25_VO2Slope','MeanO2Pulse','50_to_75_VO2Slope','MeanVO2','0_to_25_O2Slope','DiffPercentPeakHR']\r\n",
    "other_data_60 = ['MuscleSkeletalLim','first_half_O2Slope','LowestVE/VCO2','PeakVCO2','PeakVE','DiffPercentPeakVO2',\r\n",
    "                'O2PulsePercent','PeakVO2','PeakVO2Real','15_to_85_VEVCO2Slope','O2PulseDiff',\r\n",
    "                 '0_to_25_HRSlope','MeanVCO2','first_half_VO2Slope','MeanVO2','PeakRR','MeanO2Pulse','second_half_VO2Slope',\r\n",
    "                'MeanVE/VCO2','VEvsVCO2Slope','0_to_25_VCO2Slope']\r\n",
    "other_data_50 = ['MuscleSkeletalLim','first_half_O2Slope','LowestVE/VCO2','25_to_50_O2Slope','0_to_25_HRSlope',\r\n",
    "                 'first_half_VESlope','75_to_100_VO2Slope','first_half_VO2Slope','PeakVCO2','MeanVCO2','MeanVE/VCO2',\r\n",
    "                '75_to_100_O2Slope','75_to_100_VCO2Slope','VEvsVCO2Slope','DiffPercentPeakVO2','HRvsVO2Slope',\r\n",
    "                'PeakVO2','50_to_75_VEVCO2Slope']\r\n",
    "other_data_40 = ['MuscleSkeletalLim','LowestVE/VCO2','MeanVCO2','first_half_HRSlope','MeanVO2','first_half_VO2Slope',\r\n",
    "                'PeakVCO2','O2PulseDiff','MeanVE/VCO2','O2PulsePercent','PeakVO2','first_half_O2Slope',\r\n",
    "                'second_half_VCO2Slope','PeakVE','MeanO2Pulse']"
   ],
   "outputs": [],
   "metadata": {}
  },
  {
   "cell_type": "code",
   "execution_count": 47,
   "source": [
    "X_other, y_other= data_df_100[other_data_100[1:]].values, data_df_100['MuscleSkeletalLim'].values\r\n",
    "scaler_other = Normalizer(norm='l1')\r\n",
    "clf_other = RandomForestClassifier(bootstrap=True, criterion=\"entropy\",max_features=None,min_samples_leaf=0.01,\r\n",
    "                            min_samples_split=0.02,n_estimators=50, n_jobs=5, oob_score=True)\r\n",
    "clf_other_100, proba_other, y_test_other, fpr_other, tpr_other, scaler_100_other = evaluate_model(clf_other,X_other, y_other, scaler_other, total_samples=100, train_size=0.7, smote=True, best_model=True,best_criteria='accuracy')"
   ],
   "outputs": [
    {
     "output_type": "stream",
     "name": "stdout",
     "text": [
      "AUC: 0.843 +- 0.052\n",
      "Sensitivity: 0.608 +- 0.125\n",
      "Specificity: 0.856 +- 0.051\n",
      "Positive Predictive Values: 0.537 +- 0.111\n",
      "Accuracy: 0.802 +- 0.040\n",
      "19\n",
      "The highest ppv model has the following:\n",
      "AUC: 0.913\n",
      "Sensitivity: 0.571\n",
      "Specificity: 0.983\n",
      "Positive Predictive Values: 0.800\n",
      "Accuracy: 0.939\n"
     ]
    }
   ],
   "metadata": {}
  },
  {
   "cell_type": "code",
   "execution_count": 60,
   "source": [
    "X_other, y_other= data_df_90[other_data_90[1:]].values, data_df_90['MuscleSkeletalLim'].values\r\n",
    "scaler_other = Normalizer(norm='l1')\r\n",
    "clf_other = RandomForestClassifier(bootstrap=True, criterion=\"entropy\",max_features=None,min_samples_leaf=0.01,\r\n",
    "                            min_samples_split=0.02,n_estimators=50, n_jobs=5, oob_score=True)\r\n",
    "clf_other_90, proba_other, y_test_other, fpr_other, tpr_other, scaler_90_other = evaluate_model(clf_other,X_other, y_other, scaler_other, total_samples=100, train_size=0.7, smote=True, best_model=True,best_criteria='accuracy')"
   ],
   "outputs": [
    {
     "output_type": "stream",
     "name": "stdout",
     "text": [
      "AUC: 0.828 +- 0.057\n",
      "Sensitivity: 0.603 +- 0.150\n",
      "Specificity: 0.839 +- 0.058\n",
      "Positive Predictive Values: 0.495 +- 0.116\n",
      "Accuracy: 0.788 +- 0.047\n",
      "44\n",
      "The highest ppv model has the following:\n",
      "AUC: 0.944\n",
      "Sensitivity: 1.000\n",
      "Specificity: 0.881\n",
      "Positive Predictive Values: 0.500\n",
      "Accuracy: 0.894\n"
     ]
    }
   ],
   "metadata": {}
  },
  {
   "cell_type": "code",
   "execution_count": 49,
   "source": [
    "X_other, y_other= data_df_80[other_data_80[1:]].values, data_df_80['MuscleSkeletalLim'].values\r\n",
    "scaler_other = Normalizer(norm='l1')\r\n",
    "#clf_other = RandomForestClassifier(bootstrap=True, criterion=\"entropy\",max_features=None,min_samples_leaf=0.01,\r\n",
    "#                            min_samples_split=0.02,n_estimators=50, n_jobs=5, oob_score=True)\r\n",
    "clf_other = RandomForestClassifier(bootstrap=True,class_weight='balanced', criterion=\"entropy\",max_features='sqrt',\r\n",
    "                                  min_samples_leaf=0.035789473684210524, min_samples_split= 0.01,\r\n",
    "                                  n_estimators=100,oob_score=True)\r\n",
    "clf_other_80, proba_other, y_test_other, fpr_other, tpr_other, scaler_80_other = evaluate_model(clf_other,X_other, y_other, scaler_other, total_samples=100, train_size=0.7, smote=True, best_model=True)"
   ],
   "outputs": [
    {
     "output_type": "stream",
     "name": "stdout",
     "text": [
      "AUC: 0.823 +- 0.053\n",
      "Sensitivity: 0.681 +- 0.148\n",
      "Specificity: 0.782 +- 0.063\n",
      "Positive Predictive Values: 0.453 +- 0.097\n",
      "Accuracy: 0.761 +- 0.047\n",
      "61\n",
      "The highest ppv model has the following:\n",
      "AUC: 0.905\n",
      "Sensitivity: 0.895\n",
      "Specificity: 0.809\n",
      "Positive Predictive Values: 0.654\n",
      "Accuracy: 0.833\n"
     ]
    }
   ],
   "metadata": {}
  },
  {
   "cell_type": "code",
   "execution_count": 50,
   "source": [
    "X_other, y_other= data_df_70[other_data_70[1:]].values, data_df_70['MuscleSkeletalLim'].values\r\n",
    "scaler_other = Normalizer(norm='l1')\r\n",
    "clf_other = RandomForestClassifier(bootstrap=True, criterion=\"entropy\",max_features=None,min_samples_leaf=0.01,\r\n",
    "                            min_samples_split=0.02,n_estimators=50, n_jobs=5, oob_score=True)\r\n",
    "clf_other_70, proba_other, y_test_other, fpr_other, tpr_other, scaler_70_other = evaluate_model(clf_other,X_other, y_other, scaler_other, total_samples=100, train_size=0.7, smote=True, best_model=True,best_criteria='accuracy')"
   ],
   "outputs": [
    {
     "output_type": "stream",
     "name": "stdout",
     "text": [
      "AUC: 0.803 +- 0.060\n",
      "Sensitivity: 0.591 +- 0.148\n",
      "Specificity: 0.837 +- 0.059\n",
      "Positive Predictive Values: 0.479 +- 0.128\n",
      "Accuracy: 0.788 +- 0.053\n",
      "12\n",
      "The highest ppv model has the following:\n",
      "AUC: 0.876\n",
      "Sensitivity: 0.667\n",
      "Specificity: 0.947\n",
      "Positive Predictive Values: 0.667\n",
      "Accuracy: 0.909\n"
     ]
    }
   ],
   "metadata": {}
  },
  {
   "cell_type": "code",
   "execution_count": 51,
   "source": [
    "X_other, y_other= data_df_60[other_data_60[1:]].values, data_df_60['MuscleSkeletalLim'].values\r\n",
    "scaler_other = Normalizer(norm='l1')\r\n",
    "clf_other = RandomForestClassifier(bootstrap=True, criterion=\"entropy\",max_features=None,min_samples_leaf=0.01,\r\n",
    "                            min_samples_split=0.02,n_estimators=50, n_jobs=5, oob_score=True)\r\n",
    "clf_other_60, proba_other, y_test_other, fpr_other, tpr_other, scaler_60_other = evaluate_model(clf_other,X_other, y_other, scaler_other, total_samples=100, train_size=0.7, smote=True, best_model=True,best_criteria='accuracy')"
   ],
   "outputs": [
    {
     "output_type": "stream",
     "name": "stdout",
     "text": [
      "AUC: 0.827 +- 0.052\n",
      "Sensitivity: 0.586 +- 0.157\n",
      "Specificity: 0.821 +- 0.055\n",
      "Positive Predictive Values: 0.449 +- 0.115\n",
      "Accuracy: 0.774 +- 0.048\n",
      "87\n",
      "The highest ppv model has the following:\n",
      "AUC: 0.938\n",
      "Sensitivity: 0.700\n",
      "Specificity: 0.946\n",
      "Positive Predictive Values: 0.700\n",
      "Accuracy: 0.909\n"
     ]
    }
   ],
   "metadata": {}
  },
  {
   "cell_type": "code",
   "execution_count": 52,
   "source": [
    "X_other, y_other= data_df_50[other_data_50[1:]].values, data_df_50['MuscleSkeletalLim'].values\r\n",
    "scaler_other = Normalizer(norm='l1')\r\n",
    "clf_other = RandomForestClassifier(bootstrap=True, criterion=\"entropy\",max_features=None,min_samples_leaf=0.01,\r\n",
    "                            min_samples_split=0.02,n_estimators=50, n_jobs=5, oob_score=True)\r\n",
    "clf_other_50, proba_other, y_test_other, fpr_other, tpr_other, scaler_50_other = evaluate_model(clf_other,X_other, y_other, scaler_other, total_samples=100, train_size=0.7, smote=True, best_model=True,best_criteria='accuracy')"
   ],
   "outputs": [
    {
     "output_type": "stream",
     "name": "stdout",
     "text": [
      "AUC: 0.768 +- 0.065\n",
      "Sensitivity: 0.506 +- 0.151\n",
      "Specificity: 0.816 +- 0.057\n",
      "Positive Predictive Values: 0.412 +- 0.108\n",
      "Accuracy: 0.750 +- 0.051\n",
      "82\n",
      "The highest ppv model has the following:\n",
      "AUC: 0.872\n",
      "Sensitivity: 0.769\n",
      "Specificity: 0.906\n",
      "Positive Predictive Values: 0.667\n",
      "Accuracy: 0.879\n"
     ]
    }
   ],
   "metadata": {}
  },
  {
   "cell_type": "code",
   "execution_count": 58,
   "source": [
    "X_other, y_other= data_df_40[other_data_40[1:]].values, data_df_40['MuscleSkeletalLim'].values\r\n",
    "scaler_other = Normalizer(norm='l1')\r\n",
    "clf_other = RandomForestClassifier(bootstrap=True,class_weight='balanced', criterion=\"entropy\",max_features='sqrt',\r\n",
    "                                  min_samples_leaf=0.035789473684210524, min_samples_split= 0.29105263157894734,\r\n",
    "                                  n_estimators=100,oob_score=True)\r\n",
    "clf_other_40, proba_other, y_test_other, fpr_other, tpr_other, scaler_40_other = evaluate_model(clf_other,X_other, y_other, scaler_other, total_samples=300, train_size=0.7, smote=True, best_model=True,best_criteria='accuracy')"
   ],
   "outputs": [
    {
     "output_type": "stream",
     "name": "stdout",
     "text": [
      "AUC: 0.736 +- 0.059\n",
      "Sensitivity: 0.642 +- 0.133\n",
      "Specificity: 0.675 +- 0.077\n",
      "Positive Predictive Values: 0.341 +- 0.086\n",
      "Accuracy: 0.668 +- 0.057\n",
      "152\n",
      "The highest ppv model has the following:\n",
      "AUC: 0.850\n",
      "Sensitivity: 0.727\n",
      "Specificity: 0.836\n",
      "Positive Predictive Values: 0.471\n",
      "Accuracy: 0.818\n"
     ]
    }
   ],
   "metadata": {}
  },
  {
   "cell_type": "markdown",
   "source": [
    "## DataFrame creation"
   ],
   "metadata": {}
  },
  {
   "cell_type": "code",
   "execution_count": 63,
   "source": [
    "clf_cardiac_100 = clf_cardiac"
   ],
   "outputs": [],
   "metadata": {}
  },
  {
   "cell_type": "code",
   "execution_count": 64,
   "source": [
    "percentage = [100, 90, 80,70,60,50,40]\r\n",
    "df_list = [data_df_100, data_df_90, data_df_80, data_df_70, data_df_60, data_df_50, data_df_40]\r\n",
    "cardiac_col_list = [cardiac_data_100, cardiac_data_90, cardiac_data_80, cardiac_data_70, cardiac_data_60, cardiac_data_50,\r\n",
    "            cardiac_data_40]\r\n",
    "cardiac_model_list = [clf_cardiac_100, clf_cardiac_90, clf_cardiac_80, clf_cardiac_70, clf_cardiac_60, clf_cardiac_50,\r\n",
    "             clf_cardiac_40]\r\n",
    "pulmonary_col_list = [pulmonary_data_100, pulmonary_data_90, pulmonary_data_80, pulmonary_data_70, pulmonary_data_60, \r\n",
    "                      pulmonary_data_50, pulmonary_data_40]\r\n",
    "pulmonary_model_list = [clf_pulmonary_100, clf_pulmonary_90, clf_pulmonary_80, clf_pulmonary_70, clf_pulmonary_60, \r\n",
    "                        clf_pulmonary_50, clf_pulmonary_40]\r\n",
    "other_col_list = [other_data_100, other_data_90, other_data_80, other_data_70, other_data_60, other_data_50, other_data_40]\r\n",
    "other_model_list = [clf_other_100, clf_other_90, clf_other_80, clf_other_70, clf_other_60,  clf_other_50, clf_other_40]"
   ],
   "outputs": [],
   "metadata": {}
  },
  {
   "cell_type": "code",
   "execution_count": 69,
   "source": [
    "save_model(clf_cardiac_100, scaler_100_cardiac, 'clf_cardiac_100')\r\n",
    "save_model(clf_cardiac_90, scaler_90_cardiac, 'clf_cardiac_90')\r\n",
    "save_model(clf_cardiac_80, scaler_80_cardiac, 'clf_cardiac_80')\r\n",
    "save_model(clf_cardiac_70, scaler_70_cardiac, 'clf_cardiac_70')\r\n",
    "save_model(clf_cardiac_60, scaler_60_cardiac, 'clf_cardiac_60')\r\n",
    "save_model(clf_cardiac_50, scaler_50_cardiac, 'clf_cardiac_50')\r\n",
    "save_model(clf_cardiac_40, scaler_40_cardiac, 'clf_cardiac_40')\r\n",
    "#*******************************************************\r\n",
    "save_model(clf_pulmonary_100, scaler_100_pulmonary, 'clf_pulmonary_100')\r\n",
    "save_model(clf_pulmonary_90, scaler_90_pulmonary, 'clf_pulmonary_90')\r\n",
    "save_model(clf_pulmonary_80, scaler_80_pulmonary, 'clf_pulmonary_80')\r\n",
    "save_model(clf_pulmonary_70, scaler_70_pulmonary, 'clf_pulmonary_70')\r\n",
    "save_model(clf_pulmonary_60, scaler_60_pulmonary, 'clf_pulmonary_60')\r\n",
    "save_model(clf_pulmonary_50, scaler_50_pulmonary, 'clf_pulmonary_50')\r\n",
    "save_model(clf_pulmonary_40, scaler_40_pulmonary, 'clf_pulmonary_40')\r\n",
    "#*******************************************************\r\n",
    "save_model(clf_other_100, scaler_100_other, 'clf_other_100')\r\n",
    "save_model(clf_other_90, scaler_90_other, 'clf_other_90')\r\n",
    "save_model(clf_other_80, scaler_80_other, 'clf_other_80')\r\n",
    "save_model(clf_other_70, scaler_70_other, 'clf_other_70')\r\n",
    "save_model(clf_other_60, scaler_60_other, 'clf_other_60')\r\n",
    "save_model(clf_other_50, scaler_50_other, 'clf_other_50')\r\n",
    "save_model(clf_other_40, scaler_40_other, 'clf_other_40')"
   ],
   "outputs": [],
   "metadata": {}
  }
 ],
 "metadata": {
  "orig_nbformat": 4,
  "language_info": {
   "name": "python",
   "version": "3.6.6",
   "mimetype": "text/x-python",
   "codemirror_mode": {
    "name": "ipython",
    "version": 3
   },
   "pygments_lexer": "ipython3",
   "nbconvert_exporter": "python",
   "file_extension": ".py"
  },
  "kernelspec": {
   "name": "python3",
   "display_name": "Python 3.6.6 64-bit ('.dev-venv': venv)"
  },
  "interpreter": {
   "hash": "16f539cda22a1320dcbe03aa813f97b936a72de741db4d9867b0f096ec8cd653"
  }
 },
 "nbformat": 4,
 "nbformat_minor": 2
}